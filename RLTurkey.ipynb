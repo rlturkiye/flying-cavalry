{
  "nbformat": 4,
  "nbformat_minor": 0,
  "metadata": {
    "colab": {
      "name": "RLTurkey.ipynb",
      "provenance": [],
      "collapsed_sections": [],
      "toc_visible": true,
      "machine_shape": "hm"
    },
    "kernelspec": {
      "name": "python3",
      "display_name": "Python 3",
      "language": "python"
    },
    "language_info": {
      "name": "python",
      "version": "3.8.5"
    },
    "accelerator": "GPU",
    "widgets": {
      "application/vnd.jupyter.widget-state+json": {
        "48fea32c3cc54ab5924180f21e54f9e7": {
          "model_module": "@jupyter-widgets/controls",
          "model_name": "LabelModel",
          "state": {
            "_view_name": "LabelView",
            "style": "IPY_MODEL_ff991d0f09524c5eaa065f20fc31085b",
            "_dom_classes": [],
            "description": "",
            "_model_name": "LabelModel",
            "placeholder": "​",
            "_view_module": "@jupyter-widgets/controls",
            "_model_module_version": "1.5.0",
            "value": "dpkg-exec: Running dpkg",
            "_view_count": null,
            "_view_module_version": "1.5.0",
            "description_tooltip": null,
            "_model_module": "@jupyter-widgets/controls",
            "layout": "IPY_MODEL_d3c7c7e8417a4c75b544612e95ce386b"
          }
        },
        "ff991d0f09524c5eaa065f20fc31085b": {
          "model_module": "@jupyter-widgets/controls",
          "model_name": "DescriptionStyleModel",
          "state": {
            "_view_name": "StyleView",
            "_model_name": "DescriptionStyleModel",
            "description_width": "",
            "_view_module": "@jupyter-widgets/base",
            "_model_module_version": "1.5.0",
            "_view_count": null,
            "_view_module_version": "1.2.0",
            "_model_module": "@jupyter-widgets/controls"
          }
        },
        "d3c7c7e8417a4c75b544612e95ce386b": {
          "model_module": "@jupyter-widgets/base",
          "model_name": "LayoutModel",
          "state": {
            "_view_name": "LayoutView",
            "grid_template_rows": null,
            "right": null,
            "justify_content": null,
            "_view_module": "@jupyter-widgets/base",
            "overflow": null,
            "_model_module_version": "1.2.0",
            "_view_count": null,
            "flex_flow": null,
            "width": null,
            "min_width": null,
            "border": null,
            "align_items": null,
            "bottom": null,
            "_model_module": "@jupyter-widgets/base",
            "top": null,
            "grid_column": null,
            "overflow_y": null,
            "overflow_x": null,
            "grid_auto_flow": null,
            "grid_area": null,
            "grid_template_columns": null,
            "flex": null,
            "_model_name": "LayoutModel",
            "justify_items": null,
            "grid_row": null,
            "max_height": null,
            "align_content": null,
            "visibility": null,
            "align_self": null,
            "height": null,
            "min_height": null,
            "padding": null,
            "grid_auto_rows": null,
            "grid_gap": null,
            "max_width": null,
            "order": null,
            "_view_module_version": "1.2.0",
            "grid_template_areas": null,
            "object_position": null,
            "object_fit": null,
            "grid_auto_columns": null,
            "margin": null,
            "display": null,
            "left": null
          }
        },
        "f5dcc27d31fa42129d39902b36719fec": {
          "model_module": "@jupyter-widgets/controls",
          "model_name": "FloatProgressModel",
          "state": {
            "_view_name": "ProgressView",
            "style": "IPY_MODEL_f3a4685b416f438d999710afbcd4d3ea",
            "_dom_classes": [],
            "description": "",
            "_model_name": "FloatProgressModel",
            "bar_style": "",
            "max": 1,
            "_view_module": "@jupyter-widgets/controls",
            "_model_module_version": "1.5.0",
            "value": 0,
            "_view_count": null,
            "_view_module_version": "1.5.0",
            "orientation": "horizontal",
            "min": 0,
            "description_tooltip": null,
            "_model_module": "@jupyter-widgets/controls",
            "layout": "IPY_MODEL_f33c294e8ff044909af007bec4ac793b"
          }
        },
        "f3a4685b416f438d999710afbcd4d3ea": {
          "model_module": "@jupyter-widgets/controls",
          "model_name": "ProgressStyleModel",
          "state": {
            "_view_name": "StyleView",
            "_model_name": "ProgressStyleModel",
            "description_width": "",
            "_view_module": "@jupyter-widgets/base",
            "_model_module_version": "1.5.0",
            "_view_count": null,
            "_view_module_version": "1.2.0",
            "bar_color": null,
            "_model_module": "@jupyter-widgets/controls"
          }
        },
        "f33c294e8ff044909af007bec4ac793b": {
          "model_module": "@jupyter-widgets/base",
          "model_name": "LayoutModel",
          "state": {
            "_view_name": "LayoutView",
            "grid_template_rows": null,
            "right": null,
            "justify_content": null,
            "_view_module": "@jupyter-widgets/base",
            "overflow": null,
            "_model_module_version": "1.2.0",
            "_view_count": null,
            "flex_flow": null,
            "width": null,
            "min_width": null,
            "border": "1px solid #118800",
            "align_items": null,
            "bottom": null,
            "_model_module": "@jupyter-widgets/base",
            "top": null,
            "grid_column": null,
            "overflow_y": null,
            "overflow_x": null,
            "grid_auto_flow": null,
            "grid_area": null,
            "grid_template_columns": null,
            "flex": null,
            "_model_name": "LayoutModel",
            "justify_items": null,
            "grid_row": null,
            "max_height": null,
            "align_content": null,
            "visibility": null,
            "align_self": null,
            "height": null,
            "min_height": null,
            "padding": null,
            "grid_auto_rows": null,
            "grid_gap": null,
            "max_width": null,
            "order": null,
            "_view_module_version": "1.2.0",
            "grid_template_areas": null,
            "object_position": null,
            "object_fit": null,
            "grid_auto_columns": null,
            "margin": null,
            "display": null,
            "left": null
          }
        }
      }
    }
  },
  "cells": [
    {
      "cell_type": "markdown",
      "metadata": {
        "id": "1RLQ8sXWpbYN"
      },
      "source": [
        "# **Running Unreal engine and Airsim on Colab**"
      ]
    },
    {
      "cell_type": "code",
      "metadata": {
        "colab": {
          "base_uri": "https://localhost:8080/"
        },
        "id": "olHec-gDIUhh",
        "cellView": "form",
        "outputId": "0e067921-04e4-4dc0-a9e8-6e81e76bf05a"
      },
      "source": [
        "#@title **GPU Check**\n",
        "#!nvidia-smi\n",
        "\n",
        "from IPython.display import clear_output"
      ],
      "execution_count": 3,
      "outputs": [
        {
          "output_type": "error",
          "ename": "FileNotFoundError",
          "evalue": "The command was not found or was not executable: /bin/bash/.",
          "traceback": [
            "\u001b[0;31m---------------------------------------------------------------------------\u001b[0m",
            "\u001b[0;31mFileNotFoundError\u001b[0m                         Traceback (most recent call last)",
            "\u001b[0;32m<ipython-input-3-e689f86180a5>\u001b[0m in \u001b[0;36m<module>\u001b[0;34m\u001b[0m\n\u001b[1;32m      1\u001b[0m \u001b[0;31m#@title **GPU Check**\u001b[0m\u001b[0;34m\u001b[0m\u001b[0;34m\u001b[0m\u001b[0;34m\u001b[0m\u001b[0m\n\u001b[0;32m----> 2\u001b[0;31m \u001b[0mget_ipython\u001b[0m\u001b[0;34m(\u001b[0m\u001b[0;34m)\u001b[0m\u001b[0;34m.\u001b[0m\u001b[0msystem\u001b[0m\u001b[0;34m(\u001b[0m\u001b[0;34m'nvidia-smi'\u001b[0m\u001b[0;34m)\u001b[0m\u001b[0;34m\u001b[0m\u001b[0;34m\u001b[0m\u001b[0m\n\u001b[0m\u001b[1;32m      3\u001b[0m \u001b[0;34m\u001b[0m\u001b[0m\n\u001b[1;32m      4\u001b[0m \u001b[0;31m#from IPython.display import clear_output\u001b[0m\u001b[0;34m\u001b[0m\u001b[0;34m\u001b[0m\u001b[0;34m\u001b[0m\u001b[0m\n",
            "\u001b[0;32m~/miniconda3/lib/python3.8/site-packages/ipykernel/zmqshell.py\u001b[0m in \u001b[0;36msystem_piped\u001b[0;34m(self, cmd)\u001b[0m\n\u001b[1;32m    645\u001b[0m                 \u001b[0mself\u001b[0m\u001b[0;34m.\u001b[0m\u001b[0muser_ns\u001b[0m\u001b[0;34m[\u001b[0m\u001b[0;34m'_exit_code'\u001b[0m\u001b[0;34m]\u001b[0m \u001b[0;34m=\u001b[0m \u001b[0msystem\u001b[0m\u001b[0;34m(\u001b[0m\u001b[0mcmd\u001b[0m\u001b[0;34m)\u001b[0m\u001b[0;34m\u001b[0m\u001b[0;34m\u001b[0m\u001b[0m\n\u001b[1;32m    646\u001b[0m         \u001b[0;32melse\u001b[0m\u001b[0;34m:\u001b[0m\u001b[0;34m\u001b[0m\u001b[0;34m\u001b[0m\u001b[0m\n\u001b[0;32m--> 647\u001b[0;31m             \u001b[0mself\u001b[0m\u001b[0;34m.\u001b[0m\u001b[0muser_ns\u001b[0m\u001b[0;34m[\u001b[0m\u001b[0;34m'_exit_code'\u001b[0m\u001b[0;34m]\u001b[0m \u001b[0;34m=\u001b[0m \u001b[0msystem\u001b[0m\u001b[0;34m(\u001b[0m\u001b[0mself\u001b[0m\u001b[0;34m.\u001b[0m\u001b[0mvar_expand\u001b[0m\u001b[0;34m(\u001b[0m\u001b[0mcmd\u001b[0m\u001b[0;34m,\u001b[0m \u001b[0mdepth\u001b[0m\u001b[0;34m=\u001b[0m\u001b[0;36m1\u001b[0m\u001b[0;34m)\u001b[0m\u001b[0;34m)\u001b[0m\u001b[0;34m\u001b[0m\u001b[0;34m\u001b[0m\u001b[0m\n\u001b[0m\u001b[1;32m    648\u001b[0m \u001b[0;34m\u001b[0m\u001b[0m\n\u001b[1;32m    649\u001b[0m     \u001b[0;31m# Ensure new system_piped implementation is used\u001b[0m\u001b[0;34m\u001b[0m\u001b[0;34m\u001b[0m\u001b[0;34m\u001b[0m\u001b[0m\n",
            "\u001b[0;32m~/miniconda3/lib/python3.8/site-packages/IPython/utils/_process_posix.py\u001b[0m in \u001b[0;36msystem\u001b[0;34m(self, cmd)\u001b[0m\n\u001b[1;32m    155\u001b[0m                 \u001b[0mchild\u001b[0m \u001b[0;34m=\u001b[0m \u001b[0mpexpect\u001b[0m\u001b[0;34m.\u001b[0m\u001b[0mspawnb\u001b[0m\u001b[0;34m(\u001b[0m\u001b[0mself\u001b[0m\u001b[0;34m.\u001b[0m\u001b[0msh\u001b[0m\u001b[0;34m,\u001b[0m \u001b[0margs\u001b[0m\u001b[0;34m=\u001b[0m\u001b[0;34m[\u001b[0m\u001b[0;34m'-c'\u001b[0m\u001b[0;34m,\u001b[0m \u001b[0mcmd\u001b[0m\u001b[0;34m]\u001b[0m\u001b[0;34m)\u001b[0m \u001b[0;31m# Pexpect-U\u001b[0m\u001b[0;34m\u001b[0m\u001b[0;34m\u001b[0m\u001b[0m\n\u001b[1;32m    156\u001b[0m             \u001b[0;32melse\u001b[0m\u001b[0;34m:\u001b[0m\u001b[0;34m\u001b[0m\u001b[0;34m\u001b[0m\u001b[0m\n\u001b[0;32m--> 157\u001b[0;31m                 \u001b[0mchild\u001b[0m \u001b[0;34m=\u001b[0m \u001b[0mpexpect\u001b[0m\u001b[0;34m.\u001b[0m\u001b[0mspawn\u001b[0m\u001b[0;34m(\u001b[0m\u001b[0mself\u001b[0m\u001b[0;34m.\u001b[0m\u001b[0msh\u001b[0m\u001b[0;34m,\u001b[0m \u001b[0margs\u001b[0m\u001b[0;34m=\u001b[0m\u001b[0;34m[\u001b[0m\u001b[0;34m'-c'\u001b[0m\u001b[0;34m,\u001b[0m \u001b[0mcmd\u001b[0m\u001b[0;34m]\u001b[0m\u001b[0;34m)\u001b[0m  \u001b[0;31m# Vanilla Pexpect\u001b[0m\u001b[0;34m\u001b[0m\u001b[0;34m\u001b[0m\u001b[0m\n\u001b[0m\u001b[1;32m    158\u001b[0m             \u001b[0mflush\u001b[0m \u001b[0;34m=\u001b[0m \u001b[0msys\u001b[0m\u001b[0;34m.\u001b[0m\u001b[0mstdout\u001b[0m\u001b[0;34m.\u001b[0m\u001b[0mflush\u001b[0m\u001b[0;34m\u001b[0m\u001b[0;34m\u001b[0m\u001b[0m\n\u001b[1;32m    159\u001b[0m             \u001b[0;32mwhile\u001b[0m \u001b[0;32mTrue\u001b[0m\u001b[0;34m:\u001b[0m\u001b[0;34m\u001b[0m\u001b[0;34m\u001b[0m\u001b[0m\n",
            "\u001b[0;32m~/miniconda3/lib/python3.8/site-packages/pexpect/pty_spawn.py\u001b[0m in \u001b[0;36m__init__\u001b[0;34m(self, command, args, timeout, maxread, searchwindowsize, logfile, cwd, env, ignore_sighup, echo, preexec_fn, encoding, codec_errors, dimensions, use_poll)\u001b[0m\n\u001b[1;32m    203\u001b[0m             \u001b[0mself\u001b[0m\u001b[0;34m.\u001b[0m\u001b[0mname\u001b[0m \u001b[0;34m=\u001b[0m \u001b[0;34m'<pexpect factory incomplete>'\u001b[0m\u001b[0;34m\u001b[0m\u001b[0;34m\u001b[0m\u001b[0m\n\u001b[1;32m    204\u001b[0m         \u001b[0;32melse\u001b[0m\u001b[0;34m:\u001b[0m\u001b[0;34m\u001b[0m\u001b[0;34m\u001b[0m\u001b[0m\n\u001b[0;32m--> 205\u001b[0;31m             \u001b[0mself\u001b[0m\u001b[0;34m.\u001b[0m\u001b[0m_spawn\u001b[0m\u001b[0;34m(\u001b[0m\u001b[0mcommand\u001b[0m\u001b[0;34m,\u001b[0m \u001b[0margs\u001b[0m\u001b[0;34m,\u001b[0m \u001b[0mpreexec_fn\u001b[0m\u001b[0;34m,\u001b[0m \u001b[0mdimensions\u001b[0m\u001b[0;34m)\u001b[0m\u001b[0;34m\u001b[0m\u001b[0;34m\u001b[0m\u001b[0m\n\u001b[0m\u001b[1;32m    206\u001b[0m         \u001b[0mself\u001b[0m\u001b[0;34m.\u001b[0m\u001b[0muse_poll\u001b[0m \u001b[0;34m=\u001b[0m \u001b[0muse_poll\u001b[0m\u001b[0;34m\u001b[0m\u001b[0;34m\u001b[0m\u001b[0m\n\u001b[1;32m    207\u001b[0m \u001b[0;34m\u001b[0m\u001b[0m\n",
            "\u001b[0;32m~/miniconda3/lib/python3.8/site-packages/pexpect/pty_spawn.py\u001b[0m in \u001b[0;36m_spawn\u001b[0;34m(self, command, args, preexec_fn, dimensions)\u001b[0m\n\u001b[1;32m    301\u001b[0m                          for a in self.args]\n\u001b[1;32m    302\u001b[0m \u001b[0;34m\u001b[0m\u001b[0m\n\u001b[0;32m--> 303\u001b[0;31m         self.ptyproc = self._spawnpty(self.args, env=self.env,\n\u001b[0m\u001b[1;32m    304\u001b[0m                                      cwd=self.cwd, **kwargs)\n\u001b[1;32m    305\u001b[0m \u001b[0;34m\u001b[0m\u001b[0m\n",
            "\u001b[0;32m~/miniconda3/lib/python3.8/site-packages/pexpect/pty_spawn.py\u001b[0m in \u001b[0;36m_spawnpty\u001b[0;34m(self, args, **kwargs)\u001b[0m\n\u001b[1;32m    313\u001b[0m     \u001b[0;32mdef\u001b[0m \u001b[0m_spawnpty\u001b[0m\u001b[0;34m(\u001b[0m\u001b[0mself\u001b[0m\u001b[0;34m,\u001b[0m \u001b[0margs\u001b[0m\u001b[0;34m,\u001b[0m \u001b[0;34m**\u001b[0m\u001b[0mkwargs\u001b[0m\u001b[0;34m)\u001b[0m\u001b[0;34m:\u001b[0m\u001b[0;34m\u001b[0m\u001b[0;34m\u001b[0m\u001b[0m\n\u001b[1;32m    314\u001b[0m         \u001b[0;34m'''Spawn a pty and return an instance of PtyProcess.'''\u001b[0m\u001b[0;34m\u001b[0m\u001b[0;34m\u001b[0m\u001b[0m\n\u001b[0;32m--> 315\u001b[0;31m         \u001b[0;32mreturn\u001b[0m \u001b[0mptyprocess\u001b[0m\u001b[0;34m.\u001b[0m\u001b[0mPtyProcess\u001b[0m\u001b[0;34m.\u001b[0m\u001b[0mspawn\u001b[0m\u001b[0;34m(\u001b[0m\u001b[0margs\u001b[0m\u001b[0;34m,\u001b[0m \u001b[0;34m**\u001b[0m\u001b[0mkwargs\u001b[0m\u001b[0;34m)\u001b[0m\u001b[0;34m\u001b[0m\u001b[0;34m\u001b[0m\u001b[0m\n\u001b[0m\u001b[1;32m    316\u001b[0m \u001b[0;34m\u001b[0m\u001b[0m\n\u001b[1;32m    317\u001b[0m     \u001b[0;32mdef\u001b[0m \u001b[0mclose\u001b[0m\u001b[0;34m(\u001b[0m\u001b[0mself\u001b[0m\u001b[0;34m,\u001b[0m \u001b[0mforce\u001b[0m\u001b[0;34m=\u001b[0m\u001b[0;32mTrue\u001b[0m\u001b[0;34m)\u001b[0m\u001b[0;34m:\u001b[0m\u001b[0;34m\u001b[0m\u001b[0;34m\u001b[0m\u001b[0m\n",
            "\u001b[0;32m~/miniconda3/lib/python3.8/site-packages/ptyprocess/ptyprocess.py\u001b[0m in \u001b[0;36mspawn\u001b[0;34m(cls, argv, cwd, env, echo, preexec_fn, dimensions, pass_fds)\u001b[0m\n\u001b[1;32m    213\u001b[0m         \u001b[0mcommand_with_path\u001b[0m \u001b[0;34m=\u001b[0m \u001b[0mwhich\u001b[0m\u001b[0;34m(\u001b[0m\u001b[0mcommand\u001b[0m\u001b[0;34m)\u001b[0m\u001b[0;34m\u001b[0m\u001b[0;34m\u001b[0m\u001b[0m\n\u001b[1;32m    214\u001b[0m         \u001b[0;32mif\u001b[0m \u001b[0mcommand_with_path\u001b[0m \u001b[0;32mis\u001b[0m \u001b[0;32mNone\u001b[0m\u001b[0;34m:\u001b[0m\u001b[0;34m\u001b[0m\u001b[0;34m\u001b[0m\u001b[0m\n\u001b[0;32m--> 215\u001b[0;31m             raise FileNotFoundError('The command was not found or was not ' +\n\u001b[0m\u001b[1;32m    216\u001b[0m                                     'executable: %s.' % command)\n\u001b[1;32m    217\u001b[0m         \u001b[0mcommand\u001b[0m \u001b[0;34m=\u001b[0m \u001b[0mcommand_with_path\u001b[0m\u001b[0;34m\u001b[0m\u001b[0;34m\u001b[0m\u001b[0m\n",
            "\u001b[0;31mFileNotFoundError\u001b[0m: The command was not found or was not executable: /bin/bash/."
          ]
        }
      ]
    },
    {
      "cell_type": "code",
      "metadata": {
        "colab": {
          "base_uri": "https://localhost:8080/"
        },
        "id": "wQfR1-OdtgnN",
        "cellView": "form",
        "outputId": "125c7fda-9e46-4f08-93cf-4fcbb665b29b"
      },
      "source": [
        "#@title **Create User**\n",
        "#@markdown The simulation environment will refuse to open with the current user. For this we need to add a new user who does not have sudo permissions.\n",
        "\n",
        "#@markdown\n",
        "\n",
        "#@markdown Username : RLTurkey\n",
        "\n",
        "#@markdown Password : 1881 \n",
        "\n",
        "\n",
        "username = \"RLTurkey\"\n",
        "password = \"1881\"\n",
        "\n",
        "print(\"Creating User and Setting it up\")\n",
        "\n",
        "# Creation of user\n",
        "! sudo useradd -m $username &> /dev/null\n",
        "\n",
        "# Add user to sudo group\n",
        "! sudo adduser $username sudo &> /dev/null\n",
        "    \n",
        "# Set password of user to 'root'\n",
        "! echo '$username:$password' | sudo chpasswd\n",
        "\n",
        "# Change default shell from sh to bash\n",
        "! sed -i 's/\\/bin\\/sh/\\/bin\\/bash/g' /etc/passwd\n",
        "\n",
        "print(\"User Created and Configured\")"
      ],
      "execution_count": null,
      "outputs": [
        {
          "output_type": "stream",
          "text": [
            "Creating User and Setting it up\n",
            "User Created and Configured\n"
          ],
          "name": "stdout"
        }
      ]
    },
    {
      "cell_type": "code",
      "metadata": {
        "colab": {
          "base_uri": "https://localhost:8080/"
        },
        "id": "tkKv9NqMjhwk",
        "cellView": "form",
        "outputId": "992b84d6-b5e1-4c94-a9e7-d378dbfb316c"
      },
      "source": [
        "#@title **Connect to Google Drive**\n",
        "#@markdown We will move the simulation to the machine in Colab via Drive and run it, you can access the simulation environment with the \"cd /content/LinuxNoEditor\" command.\n",
        "\n",
        "from google.colab import drive\n",
        "drive.mount('/content/drive')\n",
        "\n",
        "!cp -R /content/drive/MyDrive/UnrealEngineRelated/LinuxZip/LinuxNoEditor /content/\n",
        "!sudo chmod -R +755 /content/LinuxNoEditor\n",
        "clear_output()\n",
        "print(\"Done\")"
      ],
      "execution_count": null,
      "outputs": [
        {
          "output_type": "stream",
          "text": [
            "Done\n"
          ],
          "name": "stdout"
        }
      ]
    },
    {
      "cell_type": "code",
      "metadata": {
        "id": "Yt3wzh8bpWMd",
        "colab": {
          "base_uri": "https://localhost:8080/",
          "height": 34,
          "referenced_widgets": [
            "48fea32c3cc54ab5924180f21e54f9e7",
            "ff991d0f09524c5eaa065f20fc31085b",
            "d3c7c7e8417a4c75b544612e95ce386b",
            "f5dcc27d31fa42129d39902b36719fec",
            "f3a4685b416f438d999710afbcd4d3ea",
            "f33c294e8ff044909af007bec4ac793b"
          ]
        },
        "cellView": "form",
        "outputId": "d91e8288-58b7-453b-9546-7c5a14beecb0"
      },
      "source": [
        "#@title **OpenGL setup**\n",
        "#@markdown In order to run the simulation on the GPU, this step should run smoothly. Otherwise, the simulation graphics and animations run on the CPU and you will get low FPS in the simulation.\n",
        "import subprocess, urllib.request, shutil, pathlib, stat, re\n",
        "import apt, apt.debfile, ipywidgets\n",
        "\n",
        "def _download(url, path):\n",
        "  try:\n",
        "    with urllib.request.urlopen(url) as response:\n",
        "      with open(path, 'wb') as outfile:\n",
        "        shutil.copyfileobj(response, outfile)\n",
        "  except:\n",
        "    print(\"Failed to download \", url)\n",
        "    raise\n",
        "\n",
        "class _NoteProgress(apt.progress.base.InstallProgress, apt.progress.base.AcquireProgress, apt.progress.base.OpProgress):\n",
        "  def __init__(self):\n",
        "    apt.progress.base.InstallProgress.__init__(self)\n",
        "    self._label = ipywidgets.Label()\n",
        "    display(self._label)\n",
        "    self._float_progress = ipywidgets.FloatProgress(min = 0.0, max = 1.0, layout = {'border':'1px solid #118800'})\n",
        "    display(self._float_progress)\n",
        "\n",
        "  def close(self):\n",
        "    self._float_progress.close()\n",
        "    self._label.close()\n",
        "\n",
        "  def fetch(self, item):\n",
        "    self._label.value = \"fetch: \" + item.shortdesc\n",
        "\n",
        "  def pulse(self, owner):\n",
        "    self._float_progress.value = self.current_items / self.total_items\n",
        "    return True\n",
        "\n",
        "  def status_change(self, pkg, percent, status):\n",
        "    self._label.value = \"%s: %s\" % (pkg, status)\n",
        "    self._float_progress.value = percent / 100.0\n",
        "\n",
        "  def update(self, percent=None):\n",
        "    self._float_progress.value = self.percent / 100.0\n",
        "    self._label.value = self.op + \": \" + self.subop\n",
        "\n",
        "  def done(self, item=None):\n",
        "    pass\n",
        "\n",
        "class _MyApt:\n",
        "  def __init__(self):\n",
        "    self._progress = _NoteProgress()\n",
        "    self._cache = apt.Cache(self._progress)\n",
        "\n",
        "  def close(self):\n",
        "    self._cache.close()\n",
        "    self._cache = None\n",
        "    self._progress.close()\n",
        "    self._progress = None\n",
        "\n",
        "  def update_upgrade(self):\n",
        "    self._cache.update()\n",
        "    self._cache.open(None)\n",
        "    self._cache.upgrade()\n",
        "\n",
        "  def commit(self):\n",
        "    self._cache.commit(self._progress, self._progress)\n",
        "    self._cache.clear()\n",
        "\n",
        "  def installPkg(self, *args):\n",
        "    for name in args:\n",
        "      pkg = self._cache[name]\n",
        "      if pkg.is_installed:\n",
        "        print(f\"{name} is already installed\")\n",
        "      else:\n",
        "        print(f\"Install {name}\")\n",
        "        pkg.mark_install()\n",
        "\n",
        "  def installDebPackage(self, name):\n",
        "    apt.debfile.DebPackage(name, self._cache).install()\n",
        "\n",
        "  def deleteInstalledPkg(self, *args):\n",
        "    for pkg in self._cache:\n",
        "      if pkg.is_installed:\n",
        "        for name in args:\n",
        "          if pkg.name.startswith(name):\n",
        "            #print(f\"Delete {pkg.name}\")\n",
        "            pkg.mark_delete()\n",
        "\n",
        "def _setup_nvidia_gl():\n",
        "  # Install TESLA DRIVER FOR LINUX X64.\n",
        "  # Kernel module in this driver is already loaded and cannot be neither removed nor updated.\n",
        "  # (nvidia, nvidia_uvm, nvidia_drm. See dmesg)\n",
        "  # Version number of nvidia driver for Xorg must match version number of these kernel module.\n",
        "  # But existing nvidia driver for Xorg might not match.\n",
        "  # So overwrite them with the nvidia driver that is same version to loaded kernel module.\n",
        "  ret = subprocess.run(\n",
        "                  [\"nvidia-smi\", \"--query-gpu=driver_version\", \"--format=csv,noheader\"],\n",
        "                  stdout = subprocess.PIPE,\n",
        "                  check = True,\n",
        "                  universal_newlines = True)\n",
        "  nvidia_version = ret.stdout.strip()\n",
        "  nvidia_url = \"https://us.download.nvidia.com/tesla/{0}/NVIDIA-Linux-x86_64-{0}.run\".format(nvidia_version)\n",
        "  _download(nvidia_url, \"nvidia.run\")\n",
        "  pathlib.Path(\"nvidia.run\").chmod(stat.S_IXUSR)\n",
        "  subprocess.run([\"./nvidia.run\", \"--no-kernel-module\", \"--ui=none\"], input = \"1\\n\", check = True, universal_newlines = True)\n",
        "\n",
        "  #https://virtualgl.org/Documentation/HeadlessNV\n",
        "  subprocess.run([\"nvidia-xconfig\",\n",
        "                  \"-a\",\n",
        "                  \"--allow-empty-initial-configuration\",\n",
        "                  \"--virtual=1920x1200\",\n",
        "                  \"--busid\", \"PCI:0:4:0\"],\n",
        "                 check = True\n",
        "                )\n",
        "\n",
        "  with open(\"/etc/X11/xorg.conf\", \"r\") as f:\n",
        "    conf = f.read()\n",
        "    conf = re.sub('(Section \"Device\".*?)(EndSection)',\n",
        "                  '\\\\1    MatchSeat      \"seat-1\"\\n\\\\2',\n",
        "                  conf,\n",
        "                  1,\n",
        "                  re.DOTALL)\n",
        "  #  conf = conf + \"\"\"\n",
        "  #Section \"Files\"\n",
        "  #    ModulePath \"/usr/lib/xorg/modules\"\n",
        "  #    ModulePath \"/usr/lib/x86_64-linux-gnu/nvidia-418/xorg/\"\n",
        "  #EndSection\n",
        "  #\"\"\"\n",
        "\n",
        "  with open(\"/etc/X11/xorg.conf\", \"w\") as f:\n",
        "    f.write(conf)\n",
        "\n",
        "  #!service lightdm stop\n",
        "  subprocess.run([\"/opt/VirtualGL/bin/vglserver_config\", \"-config\", \"+s\", \"+f\"], check = True)\n",
        "  #user_name = \"colab\"\n",
        "  #!usermod -a -G vglusers $user_name\n",
        "  #!service lightdm start\n",
        "\n",
        "  # Run Xorg server\n",
        "  # VirtualGL and OpenGL application require Xorg running with nvidia driver to get Hardware 3D Acceleration.\n",
        "  #\n",
        "  # Without \"-seat seat-1\" option, Xorg try to open /dev/tty0 but it doesn't exists.\n",
        "  # You can create /dev/tty0 with \"mknod /dev/tty0 c 4 0\" but you will get permision denied error.\n",
        "  subprocess.Popen([\"Xorg\", \"-seat\", \"seat-1\", \"-allowMouseOpenFail\", \"-novtswitch\", \"-nolisten\", \"tcp\"])\n",
        "\n",
        "def virtual():\n",
        "\n",
        "  virtualGL_ver = \"2.6.4\"\n",
        "  virtualGL_url = \"https://github.com/demotomohiro/turbovnc/releases/download/2.2.5/virtualgl_{0}_amd64.deb\".format(virtualGL_ver)\n",
        "  _download(virtualGL_url, \"virtualgl.deb\")\n",
        "\n",
        "  my_apt = _MyApt()\n",
        "  my_apt.installDebPackage(\"virtualgl.deb\")\n",
        "\n",
        "  my_apt.commit()\n",
        "  my_apt.close()\n",
        "\n",
        "  _setup_nvidia_gl()\n",
        "\n",
        "virtual()\n",
        "print(\"Done\")"
      ],
      "execution_count": null,
      "outputs": [
        {
          "output_type": "display_data",
          "data": {
            "application/vnd.jupyter.widget-view+json": {
              "model_id": "48fea32c3cc54ab5924180f21e54f9e7",
              "version_minor": 0,
              "version_major": 2
            },
            "text/plain": [
              "Label(value='')"
            ]
          },
          "metadata": {
            "tags": []
          }
        },
        {
          "output_type": "display_data",
          "data": {
            "application/vnd.jupyter.widget-view+json": {
              "model_id": "f5dcc27d31fa42129d39902b36719fec",
              "version_minor": 0,
              "version_major": 2
            },
            "text/plain": [
              "FloatProgress(value=0.0, layout=Layout(border='1px solid #118800'), max=1.0)"
            ]
          },
          "metadata": {
            "tags": []
          }
        },
        {
          "output_type": "stream",
          "text": [
            "Done\n"
          ],
          "name": "stdout"
        }
      ]
    },
    {
      "cell_type": "markdown",
      "metadata": {
        "id": "keZRosgnyFyH"
      },
      "source": [
        "## **Method 0 - Fake Display**"
      ]
    },
    {
      "cell_type": "code",
      "metadata": {
        "id": "DMlzVOJ1yLbl",
        "cellView": "form"
      },
      "source": [
        "#@title **Creating a display**\n",
        "#@markdown The simulation environment will be able to work on gpu with this display/screen and OpenGL.\n",
        "\n",
        "!sudo apt-get install lightdm\n",
        "!sudo service lightdm start\n",
        "!sudo apt-get install screen\n",
        "\n",
        "clear_output()"
      ],
      "execution_count": null,
      "outputs": []
    },
    {
      "cell_type": "markdown",
      "metadata": {
        "id": "28dS8lWBhzwp"
      },
      "source": [
        "**Open the terminal in Colab.**\n",
        "\n",
        "![Screenshot_2021-04-14_11-34-16](https://user-images.githubusercontent.com/54184905/114680369-c5014180-9d15-11eb-8673-82b03fabcfdc.png)\n",
        "\n",
        "**Run the \"sudo screen\" command and skip the warning messages with the space key, so our screen will be launched.**\n",
        "\n",
        "\n",
        "![Screenshot_2021-04-14_11-39-27](https://user-images.githubusercontent.com/54184905/114680809-38a34e80-9d16-11eb-8401-0e2c3c98c68a.png)\n",
        "\n",
        "**Switch to RLTurkey user with the \"su RLTurkey\" command, then access the environment where the simulation is installed with the \"cd /content/LinuxNoEditor\" command and run the simulation with the \"vglrun ./BridgeScene.sh\" command.**\n",
        "\n",
        "![Screenshot_2021-04-14_11-44-46](https://user-images.githubusercontent.com/54184905/114681665-0cd49880-9d17-11eb-8477-f6080e6855b3.png)\n",
        "\n",
        "![Screenshot_2021-04-14_11-50-00](https://user-images.githubusercontent.com/54184905/114682285-9c7a4700-9d17-11eb-8dbf-cc90e0874369.png)\n",
        "\n",
        "![Screenshot_2021-04-14_11-51-09](https://user-images.githubusercontent.com/54184905/114682449-c6336e00-9d17-11eb-8ac2-8d26ddc609eb.png)\n",
        "\n"
      ]
    },
    {
      "cell_type": "markdown",
      "metadata": {
        "id": "mn2Q9pPQqX0_"
      },
      "source": [
        "## **Method 1 - Remote desktop with OpenGL**"
      ]
    },
    {
      "cell_type": "code",
      "metadata": {
        "colab": {
          "base_uri": "https://localhost:8080/"
        },
        "id": "_iM3G849X9xx",
        "cellView": "form",
        "outputId": "3f5704ce-4e47-43f1-b60a-109bec51ceaa"
      },
      "source": [
        "#@title **Remote access to the machine**\n",
        "#@markdown Creating a new Dısplay and accessing this screen remotely with google chrome ,It takes 4-5 minutes for installation.\n",
        "\n",
        "#@markdown  Visit http://remotedesktop.google.com/headless and Copy the command after authentication\n",
        "\n",
        "LinuxCommand = \"DISPLAY= /opt/google/chrome-remote-desktop/start-host --code=\\\"4/0AY0e-g5-t5jHiZFj0zlYDOo55Lc-kvLdNOwalyQy599G4dz8lpUQj8Q0VEmL2Wl4gqWMGw\\\" --redirect-url=\\\"https://remotedesktop.google.com/_/oauthredirect\\\" --name=$(hostname)\" #@param {type:\"string\"}\n",
        "\n",
        "def CRD():\n",
        "    with open('install.sh', 'w') as script:\n",
        "        script.write(\"\"\"#! /bin/bash\n",
        "\n",
        "b='\\033[1m'\n",
        "r='\\E[31m'\n",
        "g='\\E[32m'\n",
        "c='\\E[36m'\n",
        "endc='\\E[0m'\n",
        "enda='\\033[0m'\n",
        "\n",
        "printf \"\\n\\n$c$b    Loading Installer $endc$enda\" >&2\n",
        "if sudo apt-get update &> /dev/null\n",
        "then\n",
        "    printf \"\\r$g$b    Installer Loaded $endc$enda\\n\" >&2\n",
        "else\n",
        "    printf \"\\r$r$b    Error Occured $endc$enda\\n\" >&2\n",
        "    exit\n",
        "fi\n",
        "\n",
        "printf \"\\n$g$b    Installing Chrome Remote Desktop $endc$enda\" >&2\n",
        "{\n",
        "    wget https://dl.google.com/linux/direct/chrome-remote-desktop_current_amd64.deb\n",
        "    sudo dpkg --install chrome-remote-desktop_current_amd64.deb\n",
        "    sudo apt install --assume-yes --fix-broken\n",
        "} &> /dev/null &&\n",
        "printf \"\\r$c$b    Chrome Remote Desktop Installed $endc$enda\\n\" >&2 ||\n",
        "{ printf \"\\r$r$b    Error Occured $endc$enda\\n\" >&2; exit; }\n",
        "sleep 3\n",
        "\n",
        "printf \"$g$b    Installing Desktop Environment $endc$enda\" >&2\n",
        "{\n",
        "    sudo DEBIAN_FRONTEND=noninteractive \\\n",
        "        apt install --assume-yes xfce4 desktop-base\n",
        "    sudo bash -c 'echo \"exec /etc/X11/Xsession /usr/bin/xfce4-session\" > /etc/chrome-remote-desktop-session'  \n",
        "    sudo apt install --assume-yes xscreensaver\n",
        "    sudo systemctl disable lightdm.service\n",
        "} &> /dev/null &&\n",
        "printf \"\\r$c$b    Desktop Environment Installed $endc$enda\\n\" >&2 ||\n",
        "{ printf \"\\r$r$b    Error Occured $endc$enda\\n\" >&2; exit; }\n",
        "sleep 3\n",
        "\n",
        "printf \"$g$b    Installing Google Chrome $endc$enda\" >&2\n",
        "{\n",
        "    wget https://dl.google.com/linux/direct/google-chrome-stable_current_amd64.deb\n",
        "    sudo dpkg --install google-chrome-stable_current_amd64.deb\n",
        "    sudo apt install --assume-yes --fix-broken\n",
        "} &> /dev/null &&\n",
        "printf \"\\r$c$b    Google Chrome Installed $endc$enda\\n\" >&2 ||\n",
        "printf \"\\r$r$b    Error Occured $endc$enda\\n\" >&2\n",
        "sleep 3\n",
        "\n",
        "printf \"$g$b    Installing other Tools $endc$enda\" >&2\n",
        "if sudo apt install nautilus nano -y &> /dev/null\n",
        "then\n",
        "    printf \"\\r$c$b    Other Tools Installed $endc$enda\\n\" >&2\n",
        "else\n",
        "    printf \"\\r$r$b    Error Occured $endc$enda\\n\" >&2\n",
        "fi\n",
        "sleep 3\n",
        "\n",
        "printf \"\\n$g$b    Installation Completed $endc$enda\\n\\n\" >&2\"\"\")\n",
        "\n",
        "    ! chmod +x install.sh\n",
        "    ! ./install.sh\n",
        "\n",
        "    # Adding user to CRP group\n",
        "    ! sudo adduser $username chrome-remote-desktop &> /dev/null\n",
        "\n",
        "    # Finishing Work\n",
        "    ! su - $username -c \"\"\"$LinuxCommand\"\"\"\n",
        "\n",
        "try:\n",
        "    if username:\n",
        "        if LinuxCommand == \"\" :\n",
        "            print(\"Please enter authcode from the given link\")\n",
        "        else:\n",
        "            CRD()\n",
        "except NameError:\n",
        "    print(\"username variable not found\")\n",
        "    print(\"Create a User First\")\n",
        "\n",
        "clear_output()\n",
        "print(\"Finished Succesfully\")"
      ],
      "execution_count": null,
      "outputs": [
        {
          "output_type": "stream",
          "text": [
            "Finished Succesfully\n"
          ],
          "name": "stdout"
        }
      ]
    },
    {
      "cell_type": "markdown",
      "metadata": {
        "id": "kQb9FQpCnBjS"
      },
      "source": [
        "**After these actions, click on the google sign on the top right and go to the home page.**\n",
        "\n",
        "![Screenshot_2021-04-14_11-55-26](https://user-images.githubusercontent.com/54184905/114683969-25de4900-9d19-11eb-82db-ab271755faee.png)\n",
        "\n",
        "**Here, click on the \"Access my computer\" button on the top right.**\n",
        "\n",
        "![Screenshot_2021-04-14_11-55-44](https://user-images.githubusercontent.com/54184905/114684260-6b027b00-9d19-11eb-8a4e-2a93fc1839de.png)\n",
        "\n",
        "**Finally, click on your computer and enter the password you have set, now you are visually connected to the computer in Google Colab :).**\n",
        "\n",
        "![Screenshot_2021-04-14_11-58-11](https://user-images.githubusercontent.com/54184905/114684568-b4eb6100-9d19-11eb-9cb8-fa43a815895e.png)\n",
        "\n",
        "\n",
        "![Screenshot_2021-04-14_12-05-51](https://user-images.githubusercontent.com/54184905/114684653-caf92180-9d19-11eb-93b5-a2751e992b81.png)\n"
      ]
    },
    {
      "cell_type": "code",
      "metadata": {
        "colab": {
          "base_uri": "https://localhost:8080/"
        },
        "id": "Df6RaDXuaQ5E",
        "cellView": "form",
        "outputId": "e9c860f0-ad44-44fb-abae-b1aa496c6ad5"
      },
      "source": [
        "#@title **Xfce terminal setup and settings**\n",
        "#@markdown With this terminal, we will be able to communicate with the operating system and run our commands.\n",
        "\n",
        "!apt install xfce4 xfce4-goodies\n",
        "!wget -P /home/RLTurkey/Desktop/ https://ahmetfurkandemir.s3.amazonaws.com/xfce4-terminal.desktop\n",
        "\n",
        "clear_output()\n",
        "print(\"Done\")"
      ],
      "execution_count": null,
      "outputs": [
        {
          "output_type": "stream",
          "text": [
            "Done\n"
          ],
          "name": "stdout"
        }
      ]
    },
    {
      "cell_type": "markdown",
      "metadata": {
        "id": "I-I0M2bShYSj"
      },
      "source": [
        "You can find out where the DISPLAY is opened with the \"echo $DISPLAY\" command.\n",
        "\n",
        "![Screenshot_2021-04-13_13-10-38](https://user-images.githubusercontent.com/54184905/114536436-c10fe980-9c59-11eb-9e04-b3f818dcd472.png)\n",
        "\n",
        "\n",
        "Run the simulation or other applications with this command (Rearrange the command according to the DISPLAY value.). Command : \"DISPLAY=:20.0 vglrun ./BridgeScene.sh\"\n",
        "\n",
        "![Screenshot_2021-04-13_13-07-39](https://user-images.githubusercontent.com/54184905/114536199-8312c580-9c59-11eb-86db-497e03d4c0a1.png)\n",
        "\n",
        "![ezgif com-video-to-gif](https://user-images.githubusercontent.com/54184905/114538503-22d15300-9c5c-11eb-985e-5f87b25e7c35.gif)\n",
        "\n",
        "![Screenshot_2021-04-13_13-02-33](https://user-images.githubusercontent.com/54184905/114536790-1b10af00-9c5a-11eb-8786-035b80703d6c.png)\n"
      ]
    }
  ]
}